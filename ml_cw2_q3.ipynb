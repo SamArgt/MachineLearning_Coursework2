{
 "cells": [
  {
   "cell_type": "code",
   "execution_count": 1,
   "metadata": {},
   "outputs": [
    {
     "name": "stderr",
     "output_type": "stream",
     "text": [
      "C:\\Users\\Sam\\Anaconda3\\lib\\site-packages\\statsmodels\\tools\\_testing.py:19: FutureWarning: pandas.util.testing is deprecated. Use the functions in the public API at pandas.testing instead.\n",
      "  import pandas.util.testing as tm\n"
     ]
    }
   ],
   "source": [
    "import numpy as np\n",
    "import pandas as pd\n",
    "import matplotlib.pyplot as plt\n",
    "from matplotlib.gridspec import GridSpec\n",
    "import seaborn as sns\n",
    "from sklearn.preprocessing import OneHotEncoder\n",
    "from sklearn.model_selection import train_test_split\n",
    "from sklearn.metrics import mean_squared_error, r2_score\n",
    "\n",
    "from GridSearchCV_func import *"
   ]
  },
  {
   "cell_type": "markdown",
   "metadata": {},
   "source": [
    "# 3.1 The Data"
   ]
  },
  {
   "cell_type": "code",
   "execution_count": 2,
   "metadata": {},
   "outputs": [
    {
     "name": "stdout",
     "output_type": "stream",
     "text": [
      "(550, 2)\n"
     ]
    },
    {
     "data": {
      "text/html": [
       "<div>\n",
       "<style scoped>\n",
       "    .dataframe tbody tr th:only-of-type {\n",
       "        vertical-align: middle;\n",
       "    }\n",
       "\n",
       "    .dataframe tbody tr th {\n",
       "        vertical-align: top;\n",
       "    }\n",
       "\n",
       "    .dataframe thead th {\n",
       "        text-align: right;\n",
       "    }\n",
       "</style>\n",
       "<table border=\"1\" class=\"dataframe\">\n",
       "  <thead>\n",
       "    <tr style=\"text-align: right;\">\n",
       "      <th></th>\n",
       "      <th>Months.since.Jan.1960</th>\n",
       "      <th>temp</th>\n",
       "    </tr>\n",
       "  </thead>\n",
       "  <tbody>\n",
       "    <tr>\n",
       "      <th>0</th>\n",
       "      <td>1</td>\n",
       "      <td>15.175720</td>\n",
       "    </tr>\n",
       "    <tr>\n",
       "      <th>1</th>\n",
       "      <td>2</td>\n",
       "      <td>14.181288</td>\n",
       "    </tr>\n",
       "    <tr>\n",
       "      <th>2</th>\n",
       "      <td>3</td>\n",
       "      <td>15.258313</td>\n",
       "    </tr>\n",
       "    <tr>\n",
       "      <th>3</th>\n",
       "      <td>4</td>\n",
       "      <td>18.085089</td>\n",
       "    </tr>\n",
       "    <tr>\n",
       "      <th>4</th>\n",
       "      <td>5</td>\n",
       "      <td>10.746417</td>\n",
       "    </tr>\n",
       "  </tbody>\n",
       "</table>\n",
       "</div>"
      ],
      "text/plain": [
       "   Months.since.Jan.1960       temp\n",
       "0                      1  15.175720\n",
       "1                      2  14.181288\n",
       "2                      3  15.258313\n",
       "3                      4  18.085089\n",
       "4                      5  10.746417"
      ]
     },
     "execution_count": 2,
     "metadata": {},
     "output_type": "execute_result"
    }
   ],
   "source": [
    "df = pd.read_csv(\"..\\\\..\\\\dataQ3.csv\")\n",
    "print(df.shape)\n",
    "df.head(5)"
   ]
  },
  {
   "cell_type": "code",
   "execution_count": 11,
   "metadata": {},
   "outputs": [
    {
     "data": {
      "text/html": [
       "<div>\n",
       "<style scoped>\n",
       "    .dataframe tbody tr th:only-of-type {\n",
       "        vertical-align: middle;\n",
       "    }\n",
       "\n",
       "    .dataframe tbody tr th {\n",
       "        vertical-align: top;\n",
       "    }\n",
       "\n",
       "    .dataframe thead th {\n",
       "        text-align: right;\n",
       "    }\n",
       "</style>\n",
       "<table border=\"1\" class=\"dataframe\">\n",
       "  <thead>\n",
       "    <tr style=\"text-align: right;\">\n",
       "      <th></th>\n",
       "      <th>Months.since.Jan.1960</th>\n",
       "      <th>temp</th>\n",
       "    </tr>\n",
       "  </thead>\n",
       "  <tbody>\n",
       "    <tr>\n",
       "      <th>count</th>\n",
       "      <td>550.000000</td>\n",
       "      <td>550.000000</td>\n",
       "    </tr>\n",
       "    <tr>\n",
       "      <th>mean</th>\n",
       "      <td>297.496364</td>\n",
       "      <td>12.968891</td>\n",
       "    </tr>\n",
       "    <tr>\n",
       "      <th>std</th>\n",
       "      <td>172.315546</td>\n",
       "      <td>6.989892</td>\n",
       "    </tr>\n",
       "    <tr>\n",
       "      <th>min</th>\n",
       "      <td>1.000000</td>\n",
       "      <td>-1.475230</td>\n",
       "    </tr>\n",
       "    <tr>\n",
       "      <th>25%</th>\n",
       "      <td>150.250000</td>\n",
       "      <td>7.671549</td>\n",
       "    </tr>\n",
       "    <tr>\n",
       "      <th>50%</th>\n",
       "      <td>298.500000</td>\n",
       "      <td>12.482014</td>\n",
       "    </tr>\n",
       "    <tr>\n",
       "      <th>75%</th>\n",
       "      <td>443.750000</td>\n",
       "      <td>17.038214</td>\n",
       "    </tr>\n",
       "    <tr>\n",
       "      <th>max</th>\n",
       "      <td>600.000000</td>\n",
       "      <td>34.277656</td>\n",
       "    </tr>\n",
       "  </tbody>\n",
       "</table>\n",
       "</div>"
      ],
      "text/plain": [
       "       Months.since.Jan.1960        temp\n",
       "count             550.000000  550.000000\n",
       "mean              297.496364   12.968891\n",
       "std               172.315546    6.989892\n",
       "min                 1.000000   -1.475230\n",
       "25%               150.250000    7.671549\n",
       "50%               298.500000   12.482014\n",
       "75%               443.750000   17.038214\n",
       "max               600.000000   34.277656"
      ]
     },
     "execution_count": 11,
     "metadata": {},
     "output_type": "execute_result"
    }
   ],
   "source": [
    "df.describe()"
   ]
  },
  {
   "cell_type": "code",
   "execution_count": 4,
   "metadata": {},
   "outputs": [
    {
     "data": {
      "text/plain": [
       "<Figure size 360x360 with 0 Axes>"
      ]
     },
     "metadata": {},
     "output_type": "display_data"
    },
    {
     "data": {
      "image/png": "[encoded data removed]",
      "text/plain": [
       "<Figure size 360x360 with 6 Axes>"
      ]
     },
     "metadata": {
      "needs_background": "light"
     },
     "output_type": "display_data"
    }
   ],
   "source": [
    "plt.figure(figsize=(5,5))\n",
    "sns.pairplot(df)\n",
    "plt.show()"
   ]
  },
  {
   "cell_type": "code",
   "execution_count": 5,
   "metadata": {},
   "outputs": [
    {
     "data": {
      "image/png": "[encoded data removed]",
      "text/plain": [
       "<Figure size 1440x432 with 2 Axes>"
      ]
     },
     "metadata": {
      "needs_background": "light"
     },
     "output_type": "display_data"
    }
   ],
   "source": [
    "fig = plt.figure(constrained_layout=True, figsize=(20,6))\n",
    "gs = GridSpec(1, 3, figure=fig)\n",
    "ax1 = fig.add_subplot(gs[0, 0])\n",
    "ax2 = fig.add_subplot(gs[0, 1:3])\n",
    "\n",
    "\n",
    "sns.distplot(df['temp'], ax=ax1)\n",
    "sns.scatterplot(x='Months.since.Jan.1960', y='temp', data=df, ax=ax2, palette=sns.color_palette(\"PuBuGn_d\"))\n",
    "\n",
    "ax1.set_title('Temperature distribution')\n",
    "ax2.set_title(\"Evolution of the temperature\")\n",
    "\n",
    "plt.show()"
   ]
  },
  {
   "cell_type": "code",
   "execution_count": 3,
   "metadata": {},
   "outputs": [],
   "source": [
    "df = df.rename(columns={'Months.since.Jan.1960':'m'})"
   ]
  },
  {
   "cell_type": "code",
   "execution_count": 4,
   "metadata": {},
   "outputs": [],
   "source": [
    "df['year'] = (df.m -1) // 12 + 1960\n",
    "df['month'] = (df['m'] -1) % 12 + 1"
   ]
  },
  {
   "cell_type": "code",
   "execution_count": 5,
   "metadata": {},
   "outputs": [],
   "source": [
    "df['month_name'] = df['month'].map({1:'Jan',2:'Feb',3:\"Mar\",4:'Apr',5:'May',6:'Jun',\n",
    "                                   7:\"Jul\",8:'Aug',9:'Sep',10:'Oct',11:'Nov',12:'Dec'})"
   ]
  },
  {
   "cell_type": "code",
   "execution_count": 6,
   "metadata": {},
   "outputs": [
    {
     "data": {
      "text/html": [
       "<div>\n",
       "<style scoped>\n",
       "    .dataframe tbody tr th:only-of-type {\n",
       "        vertical-align: middle;\n",
       "    }\n",
       "\n",
       "    .dataframe tbody tr th {\n",
       "        vertical-align: top;\n",
       "    }\n",
       "\n",
       "    .dataframe thead th {\n",
       "        text-align: right;\n",
       "    }\n",
       "</style>\n",
       "<table border=\"1\" class=\"dataframe\">\n",
       "  <thead>\n",
       "    <tr style=\"text-align: right;\">\n",
       "      <th></th>\n",
       "      <th>m</th>\n",
       "      <th>temp</th>\n",
       "      <th>year</th>\n",
       "      <th>month</th>\n",
       "      <th>month_name</th>\n",
       "    </tr>\n",
       "  </thead>\n",
       "  <tbody>\n",
       "    <tr>\n",
       "      <th>0</th>\n",
       "      <td>1</td>\n",
       "      <td>15.175720</td>\n",
       "      <td>1960</td>\n",
       "      <td>1</td>\n",
       "      <td>Jan</td>\n",
       "    </tr>\n",
       "    <tr>\n",
       "      <th>1</th>\n",
       "      <td>2</td>\n",
       "      <td>14.181288</td>\n",
       "      <td>1960</td>\n",
       "      <td>2</td>\n",
       "      <td>Feb</td>\n",
       "    </tr>\n",
       "    <tr>\n",
       "      <th>2</th>\n",
       "      <td>3</td>\n",
       "      <td>15.258313</td>\n",
       "      <td>1960</td>\n",
       "      <td>3</td>\n",
       "      <td>Mar</td>\n",
       "    </tr>\n",
       "    <tr>\n",
       "      <th>3</th>\n",
       "      <td>4</td>\n",
       "      <td>18.085089</td>\n",
       "      <td>1960</td>\n",
       "      <td>4</td>\n",
       "      <td>Apr</td>\n",
       "    </tr>\n",
       "    <tr>\n",
       "      <th>4</th>\n",
       "      <td>5</td>\n",
       "      <td>10.746417</td>\n",
       "      <td>1960</td>\n",
       "      <td>5</td>\n",
       "      <td>May</td>\n",
       "    </tr>\n",
       "  </tbody>\n",
       "</table>\n",
       "</div>"
      ],
      "text/plain": [
       "   m       temp  year  month month_name\n",
       "0  1  15.175720  1960      1        Jan\n",
       "1  2  14.181288  1960      2        Feb\n",
       "2  3  15.258313  1960      3        Mar\n",
       "3  4  18.085089  1960      4        Apr\n",
       "4  5  10.746417  1960      5        May"
      ]
     },
     "execution_count": 6,
     "metadata": {},
     "output_type": "execute_result"
    }
   ],
   "source": [
    "df.head()"
   ]
  },
  {
   "cell_type": "code",
   "execution_count": 10,
   "metadata": {},
   "outputs": [
    {
     "data": {
      "image/png": "[encoded data removed]",
      "text/plain": [
       "<Figure size 1440x432 with 2 Axes>"
      ]
     },
     "metadata": {
      "needs_background": "light"
     },
     "output_type": "display_data"
    }
   ],
   "source": [
    "fig = plt.figure(constrained_layout=True, figsize=(20,6))\n",
    "gs = GridSpec(1, 3, figure=fig)\n",
    "ax1 = fig.add_subplot(gs[0, 0])\n",
    "ax2 = fig.add_subplot(gs[0, 1:3])\n",
    "\n",
    "sns.boxplot(x='month_name', y='temp', data=df, ax=ax1)\n",
    "sns.boxplot(x='year', y='temp', data=df, ax=ax2)\n",
    "\n",
    "ax2.set_xticklabels(df.year.unique(), rotation=90)\n",
    "\n",
    "ax1.set_xlabel('')\n",
    "ax2.set_xlabel('')\n",
    "\n",
    "plt.show()"
   ]
  },
  {
   "cell_type": "code",
   "execution_count": 7,
   "metadata": {},
   "outputs": [],
   "source": [
    "X = df.drop(['temp'], axis=1)\n",
    "y = df['temp'].values\n",
    "enc = OneHotEncoder(sparse=False)\n",
    "enc.fit(X['month_name'].values.reshape((-1,1)))\n",
    "X_enc = enc.transform(X['month_name'].values.reshape((-1,1)))\n",
    "df_enc = pd.DataFrame(data=X_enc, columns=enc.categories_[0])\n",
    "\n",
    "X = pd.concat([X, df_enc], axis=1)"
   ]
  },
  {
   "cell_type": "code",
   "execution_count": 8,
   "metadata": {},
   "outputs": [
    {
     "data": {
      "text/html": [
       "<div>\n",
       "<style scoped>\n",
       "    .dataframe tbody tr th:only-of-type {\n",
       "        vertical-align: middle;\n",
       "    }\n",
       "\n",
       "    .dataframe tbody tr th {\n",
       "        vertical-align: top;\n",
       "    }\n",
       "\n",
       "    .dataframe thead th {\n",
       "        text-align: right;\n",
       "    }\n",
       "</style>\n",
       "<table border=\"1\" class=\"dataframe\">\n",
       "  <thead>\n",
       "    <tr style=\"text-align: right;\">\n",
       "      <th></th>\n",
       "      <th>m</th>\n",
       "      <th>year</th>\n",
       "      <th>Apr</th>\n",
       "      <th>Aug</th>\n",
       "      <th>Dec</th>\n",
       "      <th>Feb</th>\n",
       "      <th>Jan</th>\n",
       "      <th>Jul</th>\n",
       "      <th>Jun</th>\n",
       "      <th>Mar</th>\n",
       "      <th>May</th>\n",
       "      <th>Nov</th>\n",
       "      <th>Oct</th>\n",
       "      <th>Sep</th>\n",
       "    </tr>\n",
       "  </thead>\n",
       "  <tbody>\n",
       "    <tr>\n",
       "      <th>0</th>\n",
       "      <td>1</td>\n",
       "      <td>1960</td>\n",
       "      <td>0.0</td>\n",
       "      <td>0.0</td>\n",
       "      <td>0.0</td>\n",
       "      <td>0.0</td>\n",
       "      <td>1.0</td>\n",
       "      <td>0.0</td>\n",
       "      <td>0.0</td>\n",
       "      <td>0.0</td>\n",
       "      <td>0.0</td>\n",
       "      <td>0.0</td>\n",
       "      <td>0.0</td>\n",
       "      <td>0.0</td>\n",
       "    </tr>\n",
       "    <tr>\n",
       "      <th>1</th>\n",
       "      <td>2</td>\n",
       "      <td>1960</td>\n",
       "      <td>0.0</td>\n",
       "      <td>0.0</td>\n",
       "      <td>0.0</td>\n",
       "      <td>1.0</td>\n",
       "      <td>0.0</td>\n",
       "      <td>0.0</td>\n",
       "      <td>0.0</td>\n",
       "      <td>0.0</td>\n",
       "      <td>0.0</td>\n",
       "      <td>0.0</td>\n",
       "      <td>0.0</td>\n",
       "      <td>0.0</td>\n",
       "    </tr>\n",
       "    <tr>\n",
       "      <th>2</th>\n",
       "      <td>3</td>\n",
       "      <td>1960</td>\n",
       "      <td>0.0</td>\n",
       "      <td>0.0</td>\n",
       "      <td>0.0</td>\n",
       "      <td>0.0</td>\n",
       "      <td>0.0</td>\n",
       "      <td>0.0</td>\n",
       "      <td>0.0</td>\n",
       "      <td>1.0</td>\n",
       "      <td>0.0</td>\n",
       "      <td>0.0</td>\n",
       "      <td>0.0</td>\n",
       "      <td>0.0</td>\n",
       "    </tr>\n",
       "    <tr>\n",
       "      <th>3</th>\n",
       "      <td>4</td>\n",
       "      <td>1960</td>\n",
       "      <td>1.0</td>\n",
       "      <td>0.0</td>\n",
       "      <td>0.0</td>\n",
       "      <td>0.0</td>\n",
       "      <td>0.0</td>\n",
       "      <td>0.0</td>\n",
       "      <td>0.0</td>\n",
       "      <td>0.0</td>\n",
       "      <td>0.0</td>\n",
       "      <td>0.0</td>\n",
       "      <td>0.0</td>\n",
       "      <td>0.0</td>\n",
       "    </tr>\n",
       "    <tr>\n",
       "      <th>4</th>\n",
       "      <td>5</td>\n",
       "      <td>1960</td>\n",
       "      <td>0.0</td>\n",
       "      <td>0.0</td>\n",
       "      <td>0.0</td>\n",
       "      <td>0.0</td>\n",
       "      <td>0.0</td>\n",
       "      <td>0.0</td>\n",
       "      <td>0.0</td>\n",
       "      <td>0.0</td>\n",
       "      <td>1.0</td>\n",
       "      <td>0.0</td>\n",
       "      <td>0.0</td>\n",
       "      <td>0.0</td>\n",
       "    </tr>\n",
       "  </tbody>\n",
       "</table>\n",
       "</div>"
      ],
      "text/plain": [
       "   m  year  Apr  Aug  Dec  Feb  Jan  Jul  Jun  Mar  May  Nov  Oct  Sep\n",
       "0  1  1960  0.0  0.0  0.0  0.0  1.0  0.0  0.0  0.0  0.0  0.0  0.0  0.0\n",
       "1  2  1960  0.0  0.0  0.0  1.0  0.0  0.0  0.0  0.0  0.0  0.0  0.0  0.0\n",
       "2  3  1960  0.0  0.0  0.0  0.0  0.0  0.0  0.0  1.0  0.0  0.0  0.0  0.0\n",
       "3  4  1960  1.0  0.0  0.0  0.0  0.0  0.0  0.0  0.0  0.0  0.0  0.0  0.0\n",
       "4  5  1960  0.0  0.0  0.0  0.0  0.0  0.0  0.0  0.0  1.0  0.0  0.0  0.0"
      ]
     },
     "execution_count": 8,
     "metadata": {},
     "output_type": "execute_result"
    }
   ],
   "source": [
    "X.drop(['month','month_name'], axis=1).head()"
   ]
  },
  {
   "cell_type": "code",
   "execution_count": 28,
   "metadata": {},
   "outputs": [],
   "source": [
    "X_train, X_test, y_train, y_test = train_test_split(X, y, test_size=0.2)"
   ]
  },
  {
   "cell_type": "markdown",
   "metadata": {},
   "source": [
    "## 3.1 Bayesian Linear Model"
   ]
  },
  {
   "cell_type": "code",
   "execution_count": 29,
   "metadata": {},
   "outputs": [],
   "source": [
    "sigma = 1\n",
    "alpha = 1"
   ]
  },
  {
   "cell_type": "code",
   "execution_count": 30,
   "metadata": {},
   "outputs": [],
   "source": [
    "class bayesian_linear_model():\n",
    "    \n",
    "    def __init__(self, alpha=1, sigma=1):\n",
    "        self.alpha=alpha\n",
    "        self.sigma=sigma\n",
    "        \n",
    "    def compute_Sigma_(self, X):\n",
    "        return np.linalg.solve((np.dot(X.T, X) + (self.sigma**2) / self.alpha), (self.sigma**2) * np.eye(X.shape[1]))\n",
    "\n",
    "    def compute_mu_(self, S, X, y):\n",
    "        return np.dot(S, np.dot(X.T, y)) / (self.sigma**2)\n",
    "    \n",
    "    def fit(self, X, y):\n",
    "        self.S = self.compute_Sigma_(X)\n",
    "        self.mu = self.compute_mu_(self.S, X, y)\n",
    "\n",
    "    def predict(self, X):\n",
    "        return np.dot(X, self.mu)    "
   ]
  },
  {
   "cell_type": "code",
   "execution_count": 31,
   "metadata": {},
   "outputs": [
    {
     "name": "stdout",
     "output_type": "stream",
     "text": [
      "mse :  48.32497703437179\n",
      "r2 :  0.1303040279875327\n"
     ]
    },
    {
     "data": {
      "text/plain": [
       "<matplotlib.collections.PathCollection at 0x25066cd0438>"
      ]
     },
     "execution_count": 31,
     "metadata": {},
     "output_type": "execute_result"
    },
    {
     "data": {
      "image/png": "[encoded data removed]",
      "text/plain": [
       "<Figure size 432x288 with 1 Axes>"
      ]
     },
     "metadata": {
      "needs_background": "light"
     },
     "output_type": "display_data"
    }
   ],
   "source": [
    "#model using temp and m with no preprocessing\n",
    "X_train_1 = X_train['m'].values.reshape([-1,1])\n",
    "X_test_1 = X_test['m'].values.reshape([-1,1])\n",
    "\n",
    "model = bayesian_linear_model()\n",
    "model.fit(X_train_1,y_train)\n",
    "y_pred = model.predict(X_test_1)\n",
    "print('mse : ', np.mean((y_test - y_pred)**2))\n",
    "print('r2 : ', r2_score(y_test, y_pred))\n",
    "plt.scatter(y_test, y_pred)"
   ]
  },
  {
   "cell_type": "code",
   "execution_count": 32,
   "metadata": {},
   "outputs": [
    {
     "name": "stdout",
     "output_type": "stream",
     "text": [
      "mse :  50.99868401389444\n",
      "r2 :  0.08218580148990695\n"
     ]
    },
    {
     "data": {
      "text/plain": [
       "<matplotlib.collections.PathCollection at 0x25066a964a8>"
      ]
     },
     "execution_count": 32,
     "metadata": {},
     "output_type": "execute_result"
    },
    {
     "data": {
      "image/png": "[encoded data removed]",
      "text/plain": [
       "<Figure size 432x288 with 1 Axes>"
      ]
     },
     "metadata": {
      "needs_background": "light"
     },
     "output_type": "display_data"
    }
   ],
   "source": [
    "#model using temp and m, scaling temp\n",
    "X_train_1 = X_train['m'].values.reshape([-1,1]) \n",
    "X_test_1 = X_test['m'].values.reshape([-1,1])\n",
    "\n",
    "y_train_1 = (y_train  - np.mean(y_train)) / np.std(y_train)\n",
    "\n",
    "model = bayesian_linear_model()\n",
    "model.fit(X_train_1,y_train_1)\n",
    "y_pred = model.predict(X_test_1) * np.std(y_train) + np.mean(y_train)\n",
    "print('mse : ', np.mean((y_test - y_pred)**2))\n",
    "print('r2 : ', r2_score(y_test, y_pred))\n",
    "plt.scatter(y_test, y_pred)"
   ]
  },
  {
   "cell_type": "code",
   "execution_count": 33,
   "metadata": {},
   "outputs": [
    {
     "name": "stdout",
     "output_type": "stream",
     "text": [
      "mse :  19.679882843390377\n",
      "r2 :  0.645824666892232\n"
     ]
    },
    {
     "data": {
      "image/png": "[encoded data removed]",
      "text/plain": [
       "<Figure size 432x288 with 1 Axes>"
      ]
     },
     "metadata": {
      "needs_background": "light"
     },
     "output_type": "display_data"
    }
   ],
   "source": [
    "#model using m, year and dumb features\n",
    "X_train_1 = X_train.drop(['month', 'month_name'], axis=1).values\n",
    "X_test_1 = X_test.drop(['month', 'month_name'], axis=1).values\n",
    "\n",
    "model = bayesian_linear_model()\n",
    "model.fit(X_train_1,y_train)\n",
    "y_pred = model.predict(X_test_1)\n",
    "print('mse : ', np.mean((y_test - y_pred)**2))\n",
    "print('r2 : ', r2_score(y_test, y_pred))\n",
    "plt.scatter(y_test, y_pred)\n",
    "plt.show()"
   ]
  },
  {
   "cell_type": "code",
   "execution_count": 34,
   "metadata": {},
   "outputs": [],
   "source": [
    "X_train_1 = X_train.drop(['month', 'month_name'], axis=1)\n",
    "\n",
    "X_test_1 = X_test.drop(['month', 'month_name'], axis=1)\n",
    "\n",
    "X_train_1 = X_train_1.values\n",
    "X_test_1 = X_test_1.values"
   ]
  },
  {
   "cell_type": "code",
   "execution_count": 35,
   "metadata": {},
   "outputs": [],
   "source": [
    "params_grid = {'alpha' : np.logspace(0,3,20),\n",
    "              'sigma' : [0.1, 0.5, 1, 2, 5, 10, 50]}"
   ]
  },
  {
   "cell_type": "code",
   "execution_count": 37,
   "metadata": {
    "scrolled": true
   },
   "outputs": [
    {
     "name": "stdout",
     "output_type": "stream",
     "text": [
      "NB of Cross Validation:  140\n",
      "training :  1\n",
      "training :  2\n",
      "training :  3\n",
      "training :  4\n",
      "training :  5\n",
      "CV 0 / 140 done. Score: 18.856585403813646\n",
      "training :  1\n",
      "training :  2\n",
      "training :  3\n",
      "training :  4\n",
      "training :  5\n",
      "CV 1 / 140 done. Score: 18.60612966232262\n",
      "training :  1\n",
      "training :  2\n",
      "training :  3\n",
      "training :  4\n",
      "training :  5\n",
      "CV 2 / 140 done. Score: 18.81769102806238\n",
      "training :  1\n",
      "training :  2\n",
      "training :  3\n",
      "training :  4\n",
      "training :  5\n",
      "CV 3 / 140 done. Score: 18.875076871659154\n",
      "training :  1\n",
      "training :  2\n",
      "training :  3\n",
      "training :  4\n",
      "training :  5\n",
      "CV 4 / 140 done. Score: 19.207096359535345\n",
      "training :  1\n",
      "training :  2\n",
      "training :  3\n",
      "training :  4\n",
      "training :  5\n",
      "CV 5 / 140 done. Score: 19.26765323782555\n",
      "training :  1\n",
      "training :  2\n",
      "training :  3\n",
      "training :  4\n",
      "training :  5\n",
      "CV 6 / 140 done. Score: 18.581019370333856\n",
      "training :  1\n",
      "training :  2\n",
      "training :  3\n",
      "training :  4\n",
      "training :  5\n",
      "CV 7 / 140 done. Score: 18.97952186416757\n",
      "training :  1\n",
      "training :  2\n",
      "training :  3\n",
      "training :  4\n",
      "training :  5\n",
      "CV 8 / 140 done. Score: 19.01402630427976\n",
      "training :  1\n",
      "training :  2\n",
      "training :  3\n",
      "training :  4\n",
      "training :  5\n",
      "CV 9 / 140 done. Score: 18.724402955212994\n",
      "training :  1\n",
      "training :  2\n",
      "training :  3\n",
      "training :  4\n",
      "training :  5\n",
      "CV 10 / 140 done. Score: 19.014015394239415\n",
      "training :  1\n",
      "training :  2\n",
      "training :  3\n",
      "training :  4\n",
      "training :  5\n",
      "CV 11 / 140 done. Score: 18.91876945145241\n",
      "training :  1\n",
      "training :  2\n",
      "training :  3\n",
      "training :  4\n",
      "training :  5\n",
      "CV 12 / 140 done. Score: 19.209814398294906\n",
      "training :  1\n",
      "training :  2\n",
      "training :  3\n",
      "training :  4\n",
      "training :  5\n",
      "CV 13 / 140 done. Score: 19.39087801643338\n",
      "training :  1\n",
      "training :  2\n",
      "training :  3\n",
      "training :  4\n",
      "training :  5\n",
      "CV 14 / 140 done. Score: 19.264888018061338\n",
      "training :  1\n",
      "training :  2\n",
      "training :  3\n",
      "training :  4\n",
      "training :  5\n",
      "CV 15 / 140 done. Score: 18.844115673413047\n",
      "training :  1\n",
      "training :  2\n",
      "training :  3\n",
      "training :  4\n",
      "training :  5\n",
      "CV 16 / 140 done. Score: 18.742056648720542\n",
      "training :  1\n",
      "training :  2\n",
      "training :  3\n",
      "training :  4\n",
      "training :  5\n",
      "CV 17 / 140 done. Score: 19.114660669608345\n",
      "training :  1\n",
      "training :  2\n",
      "training :  3\n",
      "training :  4\n",
      "training :  5\n",
      "CV 18 / 140 done. Score: 19.443234846421092\n",
      "training :  1\n",
      "training :  2\n",
      "training :  3\n",
      "training :  4\n",
      "training :  5\n",
      "CV 19 / 140 done. Score: 19.009440659709647\n",
      "training :  1\n",
      "training :  2\n",
      "training :  3\n",
      "training :  4\n",
      "training :  5\n",
      "CV 20 / 140 done. Score: 18.931932097490677\n",
      "training :  1\n",
      "training :  2\n",
      "training :  3\n",
      "training :  4\n",
      "training :  5\n",
      "CV 21 / 140 done. Score: 18.611446306872796\n",
      "training :  1\n",
      "training :  2\n",
      "training :  3\n",
      "training :  4\n",
      "training :  5\n",
      "CV 22 / 140 done. Score: 19.658997895537958\n",
      "training :  1\n",
      "training :  2\n",
      "training :  3\n",
      "training :  4\n",
      "training :  5\n",
      "CV 23 / 140 done. Score: 19.17003870601418\n",
      "training :  1\n",
      "training :  2\n",
      "training :  3\n",
      "training :  4\n",
      "training :  5\n",
      "CV 24 / 140 done. Score: 19.10130753876836\n",
      "training :  1\n",
      "training :  2\n",
      "training :  3\n",
      "training :  4\n",
      "training :  5\n",
      "CV 25 / 140 done. Score: 18.85605536874901\n",
      "training :  1\n",
      "training :  2\n",
      "training :  3\n",
      "training :  4\n",
      "training :  5\n",
      "CV 26 / 140 done. Score: 19.18444469705307\n",
      "training :  1\n",
      "training :  2\n",
      "training :  3\n",
      "training :  4\n",
      "training :  5\n",
      "CV 27 / 140 done. Score: 19.054289685015238\n",
      "training :  1\n",
      "training :  2\n",
      "training :  3\n",
      "training :  4\n",
      "training :  5\n",
      "CV 28 / 140 done. Score: 18.724977710498173\n",
      "training :  1\n",
      "training :  2\n",
      "training :  3\n",
      "training :  4\n",
      "training :  5\n",
      "CV 29 / 140 done. Score: 19.415579713353704\n",
      "training :  1\n",
      "training :  2\n",
      "training :  3\n",
      "training :  4\n",
      "training :  5\n",
      "CV 30 / 140 done. Score: 19.246793486759877\n",
      "training :  1\n",
      "training :  2\n",
      "training :  3\n",
      "training :  4\n",
      "training :  5\n",
      "CV 31 / 140 done. Score: 19.12594431345654\n",
      "training :  1\n",
      "training :  2\n",
      "training :  3\n",
      "training :  4\n",
      "training :  5\n",
      "CV 32 / 140 done. Score: 19.189501791300483\n",
      "training :  1\n",
      "training :  2\n",
      "training :  3\n",
      "training :  4\n",
      "training :  5\n",
      "CV 33 / 140 done. Score: 19.3338446116485\n",
      "training :  1\n",
      "training :  2\n",
      "training :  3\n",
      "training :  4\n",
      "training :  5\n",
      "CV 34 / 140 done. Score: 18.81230216089399\n",
      "training :  1\n",
      "training :  2\n",
      "training :  3\n",
      "training :  4\n",
      "training :  5\n",
      "CV 35 / 140 done. Score: 19.03392427301738\n",
      "training :  1\n",
      "training :  2\n",
      "training :  3\n",
      "training :  4\n",
      "training :  5\n",
      "CV 36 / 140 done. Score: 19.506583155467858\n",
      "training :  1\n",
      "training :  2\n",
      "training :  3\n",
      "training :  4\n",
      "training :  5\n",
      "CV 37 / 140 done. Score: 18.73046198477105\n",
      "training :  1\n",
      "training :  2\n",
      "training :  3\n",
      "training :  4\n",
      "training :  5\n",
      "CV 38 / 140 done. Score: 18.49792751734265\n",
      "training :  1\n",
      "training :  2\n",
      "training :  3\n",
      "training :  4\n",
      "training :  5\n",
      "CV 39 / 140 done. Score: 19.164845865281396\n",
      "training :  1\n",
      "training :  2\n",
      "training :  3\n",
      "training :  4\n",
      "training :  5\n",
      "CV 40 / 140 done. Score: 19.082109397769877\n",
      "training :  1\n",
      "training :  2\n",
      "training :  3\n",
      "training :  4\n",
      "training :  5\n",
      "CV 41 / 140 done. Score: 19.608104507851046\n",
      "training :  1\n",
      "training :  2\n",
      "training :  3\n",
      "training :  4\n",
      "training :  5\n",
      "CV 42 / 140 done. Score: 19.048949616503084\n",
      "training :  1\n",
      "training :  2\n",
      "training :  3\n",
      "training :  4\n",
      "training :  5\n",
      "CV 43 / 140 done. Score: 18.802835032808552\n",
      "training :  1\n",
      "training :  2\n",
      "training :  3\n",
      "training :  4\n",
      "training :  5\n",
      "CV 44 / 140 done. Score: 18.7768888748471\n",
      "training :  1\n",
      "training :  2\n",
      "training :  3\n",
      "training :  4\n",
      "training :  5\n",
      "CV 45 / 140 done. Score: 19.576598086956864\n",
      "training :  1\n",
      "training :  2\n",
      "training :  3\n",
      "training :  4\n",
      "training :  5\n",
      "CV 46 / 140 done. Score: 19.75970141165078\n",
      "training :  1\n",
      "training :  2\n",
      "training :  3\n",
      "training :  4\n",
      "training :  5\n",
      "CV 47 / 140 done. Score: 19.336996619031265\n",
      "training :  1\n",
      "training :  2\n",
      "training :  3\n",
      "training :  4\n",
      "training :  5\n",
      "CV 48 / 140 done. Score: 19.20510761039045\n",
      "training :  1\n",
      "training :  2\n",
      "training :  3\n",
      "training :  4\n",
      "training :  5\n",
      "CV 49 / 140 done. Score: 19.263304292915542\n",
      "training :  1\n",
      "training :  2\n",
      "training :  3\n",
      "training :  4\n",
      "training :  5\n",
      "CV 50 / 140 done. Score: 19.03531957705805\n",
      "training :  1\n",
      "training :  2\n",
      "training :  3\n",
      "training :  4\n",
      "training :  5\n",
      "CV 51 / 140 done. Score: 19.017881440901114\n",
      "training :  1\n",
      "training :  2\n",
      "training :  3\n",
      "training :  4\n",
      "training :  5\n",
      "CV 52 / 140 done. Score: 19.057886833973186\n",
      "training :  1\n",
      "training :  2\n",
      "training :  3\n",
      "training :  4\n",
      "training :  5\n",
      "CV 53 / 140 done. Score: 19.02438573831676\n",
      "training :  1\n",
      "training :  2\n",
      "training :  3\n",
      "training :  4\n",
      "training :  5\n",
      "CV 54 / 140 done. Score: 19.212990954432065\n",
      "training :  1\n",
      "training :  2\n",
      "training :  3\n",
      "training :  4\n",
      "training :  5\n",
      "CV 55 / 140 done. Score: 19.063424871786566\n",
      "training :  1\n",
      "training :  2\n",
      "training :  3\n",
      "training :  4\n",
      "training :  5\n",
      "CV 56 / 140 done. Score: 18.858593205986136\n",
      "training :  1\n",
      "training :  2\n",
      "training :  3\n",
      "training :  4\n",
      "training :  5\n",
      "CV 57 / 140 done. Score: 19.385662026235146\n",
      "training :  1\n",
      "training :  2\n",
      "training :  3\n",
      "training :  4\n",
      "training :  5\n",
      "CV 58 / 140 done. Score: 18.94891963784273\n",
      "training :  1\n",
      "training :  2\n",
      "training :  3\n",
      "training :  4\n",
      "training :  5\n",
      "CV 59 / 140 done. Score: 19.175566033293613\n",
      "training :  1\n",
      "training :  2\n",
      "training :  3\n",
      "training :  4\n",
      "training :  5\n",
      "CV 60 / 140 done. Score: 19.058722812466726\n",
      "training :  1\n",
      "training :  2\n",
      "training :  3\n",
      "training :  4\n",
      "training :  5\n",
      "CV 61 / 140 done. Score: 19.032650839217318\n",
      "training :  1\n",
      "training :  2\n",
      "training :  3\n",
      "training :  4\n",
      "training :  5\n",
      "CV 62 / 140 done. Score: 19.063327500153058\n",
      "training :  1\n",
      "training :  2\n",
      "training :  3\n",
      "training :  4\n",
      "training :  5\n",
      "CV 63 / 140 done. Score: 18.904230157849945\n",
      "training :  1\n",
      "training :  2\n",
      "training :  3\n",
      "training :  4\n",
      "training :  5\n",
      "CV 64 / 140 done. Score: 19.001463880319093\n",
      "training :  1\n",
      "training :  2\n",
      "training :  3\n",
      "training :  4\n",
      "training :  5\n",
      "CV 65 / 140 done. Score: 18.85790687848926\n",
      "training :  1\n",
      "training :  2\n",
      "training :  3\n",
      "training :  4\n",
      "training :  5\n",
      "CV 66 / 140 done. Score: 19.471644878578864\n",
      "training :  1\n",
      "training :  2\n",
      "training :  3\n",
      "training :  4\n",
      "training :  5\n",
      "CV 67 / 140 done. Score: 19.431104308701215\n",
      "training :  1\n",
      "training :  2\n",
      "training :  3\n",
      "training :  4\n",
      "training :  5\n",
      "CV 68 / 140 done. Score: 19.010185859165002\n",
      "training :  1\n",
      "training :  2\n",
      "training :  3\n",
      "training :  4\n",
      "training :  5\n",
      "CV 69 / 140 done. Score: 19.169571393090145\n",
      "training :  1\n",
      "training :  2\n",
      "training :  3\n",
      "training :  4\n",
      "training :  5\n",
      "CV 70 / 140 done. Score: 18.885428776086087\n",
      "training :  1\n",
      "training :  2\n",
      "training :  3\n",
      "training :  4\n",
      "training :  5\n",
      "CV 71 / 140 done. Score: 18.705869053216144\n",
      "training :  1\n",
      "training :  2\n",
      "training :  3\n",
      "training :  4\n",
      "training :  5\n",
      "CV 72 / 140 done. Score: 19.069247253717297\n",
      "training :  1\n",
      "training :  2\n",
      "training :  3\n",
      "training :  4\n",
      "training :  5\n",
      "CV 73 / 140 done. Score: 18.906774796152312\n",
      "training :  1\n",
      "training :  2\n",
      "training :  3\n",
      "training :  4\n",
      "training :  5\n",
      "CV 74 / 140 done. Score: 18.700252748177586\n",
      "training :  1\n",
      "training :  2\n",
      "training :  3\n",
      "training :  4\n",
      "training :  5\n",
      "CV 75 / 140 done. Score: 18.99296010399247\n",
      "training :  1\n",
      "training :  2\n",
      "training :  3\n",
      "training :  4\n",
      "training :  5\n",
      "CV 76 / 140 done. Score: 19.007345716383647\n",
      "training :  1\n",
      "training :  2\n",
      "training :  3\n",
      "training :  4\n",
      "training :  5\n",
      "CV 77 / 140 done. Score: 18.989731072901616\n",
      "training :  1\n",
      "training :  2\n",
      "training :  3\n",
      "training :  4\n",
      "training :  5\n",
      "CV 78 / 140 done. Score: 19.04374160715113\n",
      "training :  1\n",
      "training :  2\n",
      "training :  3\n",
      "training :  4\n",
      "training :  5\n",
      "CV 79 / 140 done. Score: 19.016763412340005\n",
      "training :  1\n",
      "training :  2\n",
      "training :  3\n",
      "training :  4\n",
      "training :  5\n",
      "CV 80 / 140 done. Score: 19.027442786687686\n",
      "training :  1\n",
      "training :  2\n",
      "training :  3\n",
      "training :  4\n",
      "training :  5\n",
      "CV 81 / 140 done. Score: 19.34587619086387\n",
      "training :  1\n",
      "training :  2\n",
      "training :  3\n",
      "training :  4\n",
      "training :  5\n",
      "CV 82 / 140 done. Score: 19.173033070528867\n",
      "training :  1\n",
      "training :  2\n",
      "training :  3\n",
      "training :  4\n",
      "training :  5\n",
      "CV 83 / 140 done. Score: 18.8672781803389\n",
      "training :  1\n",
      "training :  2\n",
      "training :  3\n",
      "training :  4\n",
      "training :  5\n",
      "CV 84 / 140 done. Score: 19.546562549853512\n",
      "training :  1\n",
      "training :  2\n",
      "training :  3\n",
      "training :  4\n",
      "training :  5\n",
      "CV 85 / 140 done. Score: 18.67043633446187\n",
      "training :  1\n",
      "training :  2\n",
      "training :  3\n",
      "training :  4\n",
      "training :  5\n",
      "CV 86 / 140 done. Score: 19.153078604603714\n",
      "training :  1\n",
      "training :  2\n",
      "training :  3\n",
      "training :  4\n",
      "training :  5\n",
      "CV 87 / 140 done. Score: 19.36942066894428\n",
      "training :  1\n",
      "training :  2\n",
      "training :  3\n",
      "training :  4\n",
      "training :  5\n",
      "CV 88 / 140 done. Score: 19.009554171338966\n",
      "training :  1\n",
      "training :  2\n",
      "training :  3\n",
      "training :  4\n",
      "training :  5\n",
      "CV 89 / 140 done. Score: 19.424975532138202\n",
      "training :  1\n",
      "training :  2\n",
      "training :  3\n",
      "training :  4\n",
      "training :  5\n",
      "CV 90 / 140 done. Score: 19.378519956264554\n",
      "training :  1\n",
      "training :  2\n",
      "training :  3\n",
      "training :  4\n",
      "training :  5\n",
      "CV 91 / 140 done. Score: 19.13331968931806\n",
      "training :  1\n",
      "training :  2\n",
      "training :  3\n",
      "training :  4\n",
      "training :  5\n",
      "CV 92 / 140 done. Score: 19.003468315854885\n",
      "training :  1\n",
      "training :  2\n",
      "training :  3\n",
      "training :  4\n",
      "training :  5\n",
      "CV 93 / 140 done. Score: 18.8890431326981\n",
      "training :  1\n",
      "training :  2\n",
      "training :  3\n",
      "training :  4\n",
      "training :  5\n",
      "CV 94 / 140 done. Score: 18.695265699242302\n",
      "training :  1\n",
      "training :  2\n",
      "training :  3\n",
      "training :  4\n",
      "training :  5\n",
      "CV 95 / 140 done. Score: 18.946666828203824\n",
      "training :  1\n",
      "training :  2\n",
      "training :  3\n",
      "training :  4\n",
      "training :  5\n",
      "CV 96 / 140 done. Score: 19.38329493818979\n",
      "training :  1\n",
      "training :  2\n",
      "training :  3\n",
      "training :  4\n",
      "training :  5\n",
      "CV 97 / 140 done. Score: 18.986220578309336\n",
      "training :  1\n",
      "training :  2\n",
      "training :  3\n",
      "training :  4\n",
      "training :  5\n",
      "CV 98 / 140 done. Score: 19.11774788423159\n",
      "training :  1\n",
      "training :  2\n",
      "training :  3\n",
      "training :  4\n",
      "training :  5\n",
      "CV 99 / 140 done. Score: 18.81283602681686\n",
      "training :  1\n",
      "training :  2\n",
      "training :  3\n",
      "training :  4\n",
      "training :  5\n",
      "CV 100 / 140 done. Score: 18.997303562982125\n",
      "training :  1\n",
      "training :  2\n",
      "training :  3\n",
      "training :  4\n",
      "training :  5\n",
      "CV 101 / 140 done. Score: 19.241107073986832\n",
      "training :  1\n",
      "training :  2\n",
      "training :  3\n",
      "training :  4\n",
      "training :  5\n",
      "CV 102 / 140 done. Score: 19.025340160118574\n",
      "training :  1\n",
      "training :  2\n",
      "training :  3\n",
      "training :  4\n",
      "training :  5\n",
      "CV 103 / 140 done. Score: 18.868304770756353\n",
      "training :  1\n",
      "training :  2\n",
      "training :  3\n",
      "training :  4\n",
      "training :  5\n",
      "CV 104 / 140 done. Score: 19.267948790808866\n",
      "training :  1\n",
      "training :  2\n",
      "training :  3\n",
      "training :  4\n",
      "training :  5\n",
      "CV 105 / 140 done. Score: 18.931914614209614\n",
      "training :  1\n",
      "training :  2\n",
      "training :  3\n",
      "training :  4\n",
      "training :  5\n",
      "CV 106 / 140 done. Score: 18.861428148661908\n",
      "training :  1\n",
      "training :  2\n",
      "training :  3\n",
      "training :  4\n",
      "training :  5\n",
      "CV 107 / 140 done. Score: 18.905003112020168\n",
      "training :  1\n",
      "training :  2\n",
      "training :  3\n",
      "training :  4\n",
      "training :  5\n",
      "CV 108 / 140 done. Score: 18.90269202637717\n",
      "training :  1\n",
      "training :  2\n",
      "training :  3\n",
      "training :  4\n",
      "training :  5\n",
      "CV 109 / 140 done. Score: 18.70795509766297\n",
      "training :  1\n",
      "training :  2\n",
      "training :  3\n",
      "training :  4\n",
      "training :  5\n",
      "CV 110 / 140 done. Score: 19.270328306974136\n",
      "training :  1\n",
      "training :  2\n",
      "training :  3\n",
      "training :  4\n",
      "training :  5\n",
      "CV 111 / 140 done. Score: 18.610882921510143\n",
      "training :  1\n",
      "training :  2\n",
      "training :  3\n",
      "training :  4\n",
      "training :  5\n",
      "CV 112 / 140 done. Score: 18.814233578647332\n",
      "training :  1\n",
      "training :  2\n",
      "training :  3\n",
      "training :  4\n",
      "training :  5\n",
      "CV 113 / 140 done. Score: 19.12157147575485\n",
      "training :  1\n",
      "training :  2\n",
      "training :  3\n",
      "training :  4\n",
      "training :  5\n",
      "CV 114 / 140 done. Score: 18.909129942936747\n",
      "training :  1\n",
      "training :  2\n",
      "training :  3\n",
      "training :  4\n",
      "training :  5\n",
      "CV 115 / 140 done. Score: 18.84496242611838\n",
      "training :  1\n",
      "training :  2\n",
      "training :  3\n",
      "training :  4\n",
      "training :  5\n",
      "CV 116 / 140 done. Score: 18.812131706736658\n",
      "training :  1\n",
      "training :  2\n",
      "training :  3\n",
      "training :  4\n",
      "training :  5\n",
      "CV 117 / 140 done. Score: 19.080633662346692\n",
      "training :  1\n",
      "training :  2\n",
      "training :  3\n",
      "training :  4\n",
      "training :  5\n",
      "CV 118 / 140 done. Score: 18.999615001537297\n",
      "training :  1\n",
      "training :  2\n",
      "training :  3\n",
      "training :  4\n",
      "training :  5\n",
      "CV 119 / 140 done. Score: 19.19368221806951\n",
      "training :  1\n",
      "training :  2\n",
      "training :  3\n",
      "training :  4\n",
      "training :  5\n",
      "CV 120 / 140 done. Score: 19.83965897294797\n",
      "training :  1\n",
      "training :  2\n",
      "training :  3\n",
      "training :  4\n",
      "training :  5\n",
      "CV 121 / 140 done. Score: 19.374025961945385\n",
      "training :  1\n",
      "training :  2\n",
      "training :  3\n",
      "training :  4\n",
      "training :  5\n",
      "CV 122 / 140 done. Score: 18.891801351823318\n",
      "training :  1\n",
      "training :  2\n",
      "training :  3\n",
      "training :  4\n",
      "training :  5\n",
      "CV 123 / 140 done. Score: 18.76169098165568\n",
      "training :  1\n",
      "training :  2\n",
      "training :  3\n",
      "training :  4\n",
      "training :  5\n",
      "CV 124 / 140 done. Score: 18.677125761879246\n",
      "training :  1\n",
      "training :  2\n",
      "training :  3\n",
      "training :  4\n",
      "training :  5\n",
      "CV 125 / 140 done. Score: 18.95539637011795\n",
      "training :  1\n",
      "training :  2\n",
      "training :  3\n",
      "training :  4\n",
      "training :  5\n",
      "CV 126 / 140 done. Score: 19.181525109108982\n",
      "training :  1\n",
      "training :  2\n",
      "training :  3\n",
      "training :  4\n",
      "training :  5\n",
      "CV 127 / 140 done. Score: 19.242337543595582\n",
      "training :  1\n",
      "training :  2\n",
      "training :  3\n",
      "training :  4\n",
      "training :  5\n",
      "CV 128 / 140 done. Score: 19.14862566481248\n",
      "training :  1\n",
      "training :  2\n",
      "training :  3\n",
      "training :  4\n",
      "training :  5\n",
      "CV 129 / 140 done. Score: 19.40089279898793\n",
      "training :  1\n",
      "training :  2\n",
      "training :  3\n",
      "training :  4\n",
      "training :  5\n",
      "CV 130 / 140 done. Score: 18.757807033307508\n",
      "training :  1\n",
      "training :  2\n",
      "training :  3\n",
      "training :  4\n",
      "training :  5\n",
      "CV 131 / 140 done. Score: 18.760186625852306\n",
      "training :  1\n",
      "training :  2\n",
      "training :  3\n",
      "training :  4\n",
      "training :  5\n",
      "CV 132 / 140 done. Score: 19.136529345796777\n",
      "training :  1\n",
      "training :  2\n",
      "training :  3\n",
      "training :  4\n",
      "training :  5\n",
      "CV 133 / 140 done. Score: 18.70491963273968\n",
      "training :  1\n",
      "training :  2\n",
      "training :  3\n",
      "training :  4\n",
      "training :  5\n",
      "CV 134 / 140 done. Score: 18.87357780850718\n",
      "training :  1\n",
      "training :  2\n",
      "training :  3\n",
      "training :  4\n",
      "training :  5\n",
      "CV 135 / 140 done. Score: 18.782860915399255\n",
      "training :  1\n",
      "training :  2\n",
      "training :  3\n",
      "training :  4\n",
      "training :  5\n",
      "CV 136 / 140 done. Score: 18.798897706022732\n",
      "training :  1\n",
      "training :  2\n",
      "training :  3\n",
      "training :  4\n",
      "training :  5\n",
      "CV 137 / 140 done. Score: 19.43168896161187\n",
      "training :  1\n",
      "training :  2\n",
      "training :  3\n",
      "training :  4\n",
      "training :  5\n",
      "CV 138 / 140 done. Score: 18.86284281852567\n",
      "training :  1\n",
      "training :  2\n",
      "training :  3\n",
      "training :  4\n",
      "training :  5\n",
      "CV 139 / 140 done. Score: 19.042009593366526\n"
     ]
    }
   ],
   "source": [
    "best_score, best_params, _, _ = GridSearch_CV(X_train_1, y_train, bayesian_linear_model, params_grid)"
   ]
  },
  {
   "cell_type": "code",
   "execution_count": 38,
   "metadata": {},
   "outputs": [
    {
     "data": {
      "text/plain": [
       "18.49792751734265"
      ]
     },
     "execution_count": 38,
     "metadata": {},
     "output_type": "execute_result"
    }
   ],
   "source": [
    "best_score"
   ]
  },
  {
   "cell_type": "code",
   "execution_count": 39,
   "metadata": {},
   "outputs": [
    {
     "data": {
      "text/plain": [
       "alpha    6.158482\n",
       "sigma    2.000000\n",
       "Name: 38, dtype: float64"
      ]
     },
     "execution_count": 39,
     "metadata": {},
     "output_type": "execute_result"
    }
   ],
   "source": [
    "best_params"
   ]
  },
  {
   "cell_type": "code",
   "execution_count": 41,
   "metadata": {},
   "outputs": [
    {
     "name": "stdout",
     "output_type": "stream",
     "text": [
      "mse :  19.679882843390352\n",
      "r2 :  0.6458246668922324\n"
     ]
    },
    {
     "data": {
      "image/png": "[encoded data removed]",
      "text/plain": [
       "<Figure size 432x288 with 1 Axes>"
      ]
     },
     "metadata": {
      "needs_background": "light"
     },
     "output_type": "display_data"
    }
   ],
   "source": [
    "model = bayesian_linear_model(**best_params)\n",
    "model.fit(X_train_1,y_train)\n",
    "y_pred = model.predict(X_test_1)\n",
    "print('mse : ', np.mean((y_test - y_pred)**2))\n",
    "print('r2 : ', r2_score(y_test, y_pred))\n",
    "plt.scatter(y_test, y_pred)\n",
    "plt.show()"
   ]
  },
  {
   "cell_type": "markdown",
   "metadata": {},
   "source": [
    "## Gaussian Process"
   ]
  },
  {
   "cell_type": "code",
   "execution_count": 42,
   "metadata": {},
   "outputs": [],
   "source": [
    "class GPRegression():\n",
    "    \n",
    "    def __init__(self, kernel='gaussian', amplitude=1, length=1, noise_std=1, **kwargs):\n",
    "        self.amplitude = float(amplitude)\n",
    "        self.length = float(length)\n",
    "        self.noise_std = float(noise_std)\n",
    "        if kernel == 'gaussian':\n",
    "            self.kernel_func = GPRegression.gaussian_kernel(self.amplitude, self.length)\n",
    "        elif kernel=='matern':\n",
    "            self.kernel_func = GPRegression.matern_kernel(self.amplitude, self.length)\n",
    "        elif kernel=='periodic':\n",
    "            self.periodicity = float(kwargs['periodicity'])\n",
    "            self.kernel_func = GPRegression.periodic_kernel(self.amplitude, self.length, self.periodicity)\n",
    "        else:\n",
    "            raise ValueError('kernel value shoulb be either gaussian, matern or periodic')\n",
    "            \n",
    "    def fit(self,X,y):\n",
    "        \n",
    "        self.n, self.p = X.shape\n",
    "        self.X_train = X\n",
    "        self.y_train = y\n",
    "        self.K = np.zeros((self.n,self.n))\n",
    "        for i in range(self.n):\n",
    "            for j in range(self.n):\n",
    "                self.K[i,j] = self.kernel_func(X[i], X[j])\n",
    "                \n",
    "        self.S_inv = np.linalg.solve((self.K + (self.noise_std**2)), np.eye(self.n))\n",
    "        \n",
    "    def predict(self, X):\n",
    "        \"\"\"return expected predictive posterior\"\"\"\n",
    "        n_test = len(X)\n",
    "        y_mean_pred = np.zeros(n_test)\n",
    "        self.variance = np.zeros(n_test)\n",
    "        for i in range(n_test):\n",
    "            Kxnew_X = self.kernel_new_vector(X[i])\n",
    "            y_mean_pred[i] = np.dot(Kxnew_X.T, np.dot(self.S_inv, self.y_train))\n",
    "            self.variance[i] = np.dot(Kxnew_X.T, np.dot(self.S_inv, Kxnew_X))\n",
    "        return y_mean_pred\n",
    "    \n",
    "        \n",
    "    def kernel_new_vector(self, x_new):\n",
    "        \"\"\"Compute k(., X)\"\"\"\n",
    "        \n",
    "        Kxnew_X = np.zeros(self.n)\n",
    "        for i in range(self.n):\n",
    "            Kxnew_X[i] = self.kernel_func(x_new, self.X_train[i])\n",
    "        \n",
    "        return Kxnew_X\n",
    "        \n",
    "    @staticmethod\n",
    "    def gaussian_kernel(amplitude, length):\n",
    "        \"\"\"Return a gaussian kernel function with amplitude and length\"\"\"\n",
    "        \n",
    "        def kernel_fun(xi, xj):\n",
    "            norm_sqr = np.sum((xi - xj)**2)\n",
    "            return (amplitude**2) * np.exp(- norm_sqr / (length**2))\n",
    "        \n",
    "        return kernel_fun\n",
    "    \n",
    "    @staticmethod\n",
    "    def matern_kernel(amplitude, length):\n",
    "        \n",
    "        def kernel_fun(xi, xj):\n",
    "            norm = (np.sqrt(3)/length) * np.sqrt(np.sum((xi -xj)**2))\n",
    "            return (amplitude**2) * (1 + norm) * np.exp(-norm)\n",
    "        \n",
    "        return kernel_fun\n",
    "    \n",
    "    @staticmethod\n",
    "    def periodic_kernel(amplitude, length, periodicity):\n",
    "        \n",
    "        def kernel_fun(xi, xj):\n",
    "            \n",
    "            sin_term = np.sin(periodicity * np.sum((xi - xj)**2) / (2 * np.pi)) ** 2\n",
    "            return (amplitude**2) * np.exp(-2*sin_term / (length**2))\n",
    "        \n",
    "        return kernel_fun"
   ]
  },
  {
   "cell_type": "code",
   "execution_count": 43,
   "metadata": {},
   "outputs": [],
   "source": [
    "X_train_1 = X_train.drop(['month', 'month_name'], axis=1)\n",
    "X_test_1 = X_test.drop(['month', 'month_name'], axis=1)\n",
    "X_train_1 = X_train_1.values\n",
    "X_test_1 = X_test_1.values\n",
    "\n",
    "y_train_1 = (y_train  - np.mean(y_train))/np.std(y_train)\n",
    "y_test_1 = (y_test - np.mean(y_train)) / np.std(y_train)"
   ]
  },
  {
   "cell_type": "code",
   "execution_count": 44,
   "metadata": {},
   "outputs": [
    {
     "data": {
      "image/png": "[encoded data removed]",
      "text/plain": [
       "<Figure size 432x288 with 1 Axes>"
      ]
     },
     "metadata": {
      "needs_background": "light"
     },
     "output_type": "display_data"
    }
   ],
   "source": [
    "gp_gauss = GPRegression(kernel='gaussian', amplitude=1, length=10, noise_std=1)\n",
    "gp_gauss.fit(X_train_1, y_train_1)\n",
    "y_pred_gauss = gp_gauss.predict(X_test_1)*np.std(y_train) + np.mean(y_train)\n",
    "mse_gauss = np.mean((y_test - y_pred_gauss)**2)\n",
    "r2_gauss = r2_score(y_test, y_pred_gauss)\n",
    "plt.scatter(y_test, y_pred_gauss)\n",
    "plt.plot([0,30],[0,30], color='black', linestyle='--')\n",
    "plt.text(25,10,'MSE={}'.format(round(mse_gauss,2)) +'\\n'+ 'R2={}'.format(round(r2_gauss,2)))\n",
    "plt.show()"
   ]
  },
  {
   "cell_type": "code",
   "execution_count": 45,
   "metadata": {},
   "outputs": [
    {
     "data": {
      "image/png": "[encoded data removed]",
      "text/plain": [
       "<Figure size 432x288 with 1 Axes>"
      ]
     },
     "metadata": {
      "needs_background": "light"
     },
     "output_type": "display_data"
    }
   ],
   "source": [
    "gp_matern = GPRegression(kernel='matern', amplitude=1, length=10, noise_std=1)\n",
    "gp_matern.fit(X_train_1, y_train_1)\n",
    "y_pred_matern = gp_matern.predict(X_test_1)*np.std(y_train) + np.mean(y_train)\n",
    "mse_matern = np.mean((y_test - y_pred_matern)**2)\n",
    "r2_matern = r2_score(y_test, y_pred_matern)\n",
    "plt.scatter(y_test, y_pred_matern)\n",
    "plt.plot([0,30],[0,30], color='black', linestyle='--')\n",
    "plt.text(25,10,'MSE={}'.format(round(mse_matern,4)) +'\\n'+ 'R2={}'.format(round(r2_matern,4)))\n",
    "plt.show()"
   ]
  },
  {
   "cell_type": "code",
   "execution_count": 46,
   "metadata": {},
   "outputs": [
    {
     "data": {
      "image/png": "[encoded data removed]",
      "text/plain": [
       "<Figure size 432x288 with 1 Axes>"
      ]
     },
     "metadata": {
      "needs_background": "light"
     },
     "output_type": "display_data"
    }
   ],
   "source": [
    "gp_periodic = GPRegression(kernel='periodic', amplitude=1, length=10, noise_std=1, periodicity=1)\n",
    "gp_periodic.fit(X_train_1, y_train_1)\n",
    "y_pred_periodic = gp_periodic.predict(X_test_1)*np.std(y_train) + np.mean(y_train)\n",
    "mse_periodic = np.mean((y_test - y_pred_periodic)**2)\n",
    "r2_periodic = r2_score(y_test, y_pred_periodic)\n",
    "plt.scatter(y_test, y_pred_periodic)\n",
    "plt.plot([0,30],[0,30], color='black', linestyle='--')\n",
    "plt.text(25,10,'MSE={}'.format(round(mse_periodic,4)) +'\\n'+ 'R2={}'.format(round(r2_periodic,4)))\n",
    "plt.show()"
   ]
  },
  {
   "cell_type": "code",
   "execution_count": 46,
   "metadata": {},
   "outputs": [
    {
     "data": {
      "image/png": "[encoded data removed]",
      "text/plain": [
       "<Figure size 1440x288 with 3 Axes>"
      ]
     },
     "metadata": {
      "needs_background": "light"
     },
     "output_type": "display_data"
    }
   ],
   "source": [
    "y_pred_dict = {'gaussian':y_pred_gauss, 'matern':y_pred_matern,'periodic':y_pred_periodic}\n",
    "\n",
    "f, axes = plt.subplots(nrows=1, ncols=3, figsize=(20,4))\n",
    "\n",
    "for i, d in enumerate(y_pred_dict.items()):\n",
    "    kernel_name, y_pred = d\n",
    "    mse = np.mean((y_test - y_pred)**2)\n",
    "    r2 = r2_score(y_test, y_pred)\n",
    "    ax = axes[i]\n",
    "    ax.scatter(y_test, y_pred)\n",
    "    ax.plot([0,30],[0,30], color='black', linestyle='--')\n",
    "    ax.text(25,2,'MSE={}'.format(round(mse,4)) +'\\n'+ 'R2={}'.format(round(r2,4)))\n",
    "    ax.set_title(kernel_name + ' kernel')\n",
    "    ax.set_xlabel('y true')\n",
    "    ax.set_ylabel('mean response')\n",
    "    \n",
    "plt.show()\n"
   ]
  },
  {
   "cell_type": "markdown",
   "metadata": {},
   "source": [
    "## Cross Validation"
   ]
  },
  {
   "cell_type": "code",
   "execution_count": 18,
   "metadata": {},
   "outputs": [],
   "source": [
    "params_dict = {'kernel':['gaussian', 'matern', \"periodic\"],\n",
    "               \"amplitude\" : [0.1, 1, 5, 10, 40],\n",
    "              \"length\" : [0.1, 1, 10, 20],\n",
    "              \"periodicity\" : [0.1, 1, 50, 100]}"
   ]
  },
  {
   "cell_type": "code",
   "execution_count": 147,
   "metadata": {},
   "outputs": [],
   "source": [
    "best_params = {'kernel': 'matern', 'amplitude': 5.0, 'length': 10.0}"
   ]
  },
  {
   "cell_type": "code",
   "execution_count": 148,
   "metadata": {},
   "outputs": [],
   "source": [
    "best_gp_regression = GPRegression(**best_params)\n",
    "best_gp_regression.fit(X_train_1, y_train_1)"
   ]
  },
  {
   "cell_type": "code",
   "execution_count": 149,
   "metadata": {},
   "outputs": [
    {
     "data": {
      "image/png": "[encoded data removed]",
      "text/plain": [
       "<Figure size 432x288 with 1 Axes>"
      ]
     },
     "metadata": {
      "needs_background": "light"
     },
     "output_type": "display_data"
    }
   ],
   "source": [
    "y_pred_best = best_gp_regression.predict(X_test_1)*np.std(y_train) + np.mean(y_train)\n",
    "mse_best = np.mean((y_test - y_pred_best)**2)\n",
    "r2_best = r2_score(y_test, y_pred_best)\n",
    "plt.scatter(y_test, y_pred_best)\n",
    "plt.plot([0,30],[0,30], color='black', linestyle='--')\n",
    "plt.text(25,10,'MSE={}'.format(round(mse_best,4)) +'\\n'+ 'R2={}'.format(round(r2_best,4)))\n",
    "plt.title('Best GP Model')\n",
    "plt.show()"
   ]
  },
  {
   "cell_type": "code",
   "execution_count": 150,
   "metadata": {},
   "outputs": [
    {
     "data": {
      "image/png": "[encoded data removed]",
      "text/plain": [
       "<Figure size 1152x360 with 1 Axes>"
      ]
     },
     "metadata": {
      "needs_background": "light"
     },
     "output_type": "display_data"
    }
   ],
   "source": [
    "results = pd.DataFrame()\n",
    "results['m'] = X_test_1[:,0]\n",
    "results['prediction'] = y_pred_best\n",
    "results['std1'] = y_pred_best - np.sqrt(best_gp_regression.variance)\n",
    "results['std2'] = y_pred_best + np.sqrt(best_gp_regression.variance)\n",
    "results = results.sort_values(by='m')\n",
    "f = plt.figure(figsize=(16,5))\n",
    "plt.plot(results.m, results.prediction)\n",
    "plt.fill_between(results.m, results.std1, results.std2, results.std1 <= results.std2, facecolor='grey', alpha=0.5)\n",
    "plt.show()"
   ]
  },
  {
   "cell_type": "code",
   "execution_count": 151,
   "metadata": {},
   "outputs": [
    {
     "data": {
      "text/html": [
       "<div>\n",
       "<style scoped>\n",
       "    .dataframe tbody tr th:only-of-type {\n",
       "        vertical-align: middle;\n",
       "    }\n",
       "\n",
       "    .dataframe tbody tr th {\n",
       "        vertical-align: top;\n",
       "    }\n",
       "\n",
       "    .dataframe thead th {\n",
       "        text-align: right;\n",
       "    }\n",
       "</style>\n",
       "<table border=\"1\" class=\"dataframe\">\n",
       "  <thead>\n",
       "    <tr style=\"text-align: right;\">\n",
       "      <th></th>\n",
       "      <th>m</th>\n",
       "      <th>year</th>\n",
       "      <th>month</th>\n",
       "      <th>month_name</th>\n",
       "      <th>Apr</th>\n",
       "      <th>Aug</th>\n",
       "      <th>Dec</th>\n",
       "      <th>Feb</th>\n",
       "      <th>Jan</th>\n",
       "      <th>Jul</th>\n",
       "      <th>Jun</th>\n",
       "      <th>Mar</th>\n",
       "      <th>May</th>\n",
       "      <th>Nov</th>\n",
       "      <th>Oct</th>\n",
       "      <th>Sep</th>\n",
       "    </tr>\n",
       "  </thead>\n",
       "  <tbody>\n",
       "    <tr>\n",
       "      <th>182</th>\n",
       "      <td>197</td>\n",
       "      <td>1976</td>\n",
       "      <td>5</td>\n",
       "      <td>May</td>\n",
       "      <td>0.0</td>\n",
       "      <td>0.0</td>\n",
       "      <td>0.0</td>\n",
       "      <td>0.0</td>\n",
       "      <td>0.0</td>\n",
       "      <td>0.0</td>\n",
       "      <td>0.0</td>\n",
       "      <td>0.0</td>\n",
       "      <td>1.0</td>\n",
       "      <td>0.0</td>\n",
       "      <td>0.0</td>\n",
       "      <td>0.0</td>\n",
       "    </tr>\n",
       "    <tr>\n",
       "      <th>124</th>\n",
       "      <td>135</td>\n",
       "      <td>1971</td>\n",
       "      <td>3</td>\n",
       "      <td>Mar</td>\n",
       "      <td>0.0</td>\n",
       "      <td>0.0</td>\n",
       "      <td>0.0</td>\n",
       "      <td>0.0</td>\n",
       "      <td>0.0</td>\n",
       "      <td>0.0</td>\n",
       "      <td>0.0</td>\n",
       "      <td>1.0</td>\n",
       "      <td>0.0</td>\n",
       "      <td>0.0</td>\n",
       "      <td>0.0</td>\n",
       "      <td>0.0</td>\n",
       "    </tr>\n",
       "    <tr>\n",
       "      <th>393</th>\n",
       "      <td>424</td>\n",
       "      <td>1995</td>\n",
       "      <td>4</td>\n",
       "      <td>Apr</td>\n",
       "      <td>1.0</td>\n",
       "      <td>0.0</td>\n",
       "      <td>0.0</td>\n",
       "      <td>0.0</td>\n",
       "      <td>0.0</td>\n",
       "      <td>0.0</td>\n",
       "      <td>0.0</td>\n",
       "      <td>0.0</td>\n",
       "      <td>0.0</td>\n",
       "      <td>0.0</td>\n",
       "      <td>0.0</td>\n",
       "      <td>0.0</td>\n",
       "    </tr>\n",
       "  </tbody>\n",
       "</table>\n",
       "</div>"
      ],
      "text/plain": [
       "       m  year  month month_name  Apr  Aug  Dec  Feb  Jan  Jul  Jun  Mar  May  \\\n",
       "182  197  1976      5        May  0.0  0.0  0.0  0.0  0.0  0.0  0.0  0.0  1.0   \n",
       "124  135  1971      3        Mar  0.0  0.0  0.0  0.0  0.0  0.0  0.0  1.0  0.0   \n",
       "393  424  1995      4        Apr  1.0  0.0  0.0  0.0  0.0  0.0  0.0  0.0  0.0   \n",
       "\n",
       "     Nov  Oct  Sep  \n",
       "182  0.0  0.0  0.0  \n",
       "124  0.0  0.0  0.0  \n",
       "393  0.0  0.0  0.0  "
      ]
     },
     "execution_count": 151,
     "metadata": {},
     "output_type": "execute_result"
    }
   ],
   "source": [
    "X_train.head()[:3]"
   ]
  },
  {
   "cell_type": "code",
   "execution_count": 152,
   "metadata": {},
   "outputs": [
    {
     "data": {
      "text/plain": [
       "array([1.970e+02, 1.976e+03, 0.000e+00, 0.000e+00, 0.000e+00, 0.000e+00,\n",
       "       0.000e+00, 0.000e+00, 0.000e+00, 0.000e+00, 1.000e+00, 0.000e+00,\n",
       "       0.000e+00, 0.000e+00])"
      ]
     },
     "execution_count": 152,
     "metadata": {},
     "output_type": "execute_result"
    }
   ],
   "source": [
    "X_train_1[0]"
   ]
  },
  {
   "cell_type": "code",
   "execution_count": 153,
   "metadata": {},
   "outputs": [
    {
     "data": {
      "text/plain": [
       "(1, 14)"
      ]
     },
     "execution_count": 153,
     "metadata": {},
     "output_type": "execute_result"
    }
   ],
   "source": [
    "x_march2010 = np.array([603, 2010, 0,0,0,0,0,0,0,1,0,0,0,0]).reshape(1,-1)\n",
    "x_march2010.shape"
   ]
  },
  {
   "cell_type": "code",
   "execution_count": 154,
   "metadata": {},
   "outputs": [
    {
     "data": {
      "text/plain": [
       "array([23.82965975])"
      ]
     },
     "execution_count": 154,
     "metadata": {},
     "output_type": "execute_result"
    }
   ],
   "source": [
    "best_gp_regression.predict(x_march2010) * np.std(y_train) + np.mean(y_train)"
   ]
  },
  {
   "cell_type": "code",
   "execution_count": 158,
   "metadata": {},
   "outputs": [
    {
     "data": {
      "text/plain": [
       "array([4.19109157])"
      ]
     },
     "execution_count": 158,
     "metadata": {},
     "output_type": "execute_result"
    }
   ],
   "source": [
    "np.sqrt(best_gp_regression.variance)"
   ]
  },
  {
   "cell_type": "code",
   "execution_count": null,
   "metadata": {},
   "outputs": [],
   "source": []
  }
 ],
 "metadata": {
  "kernelspec": {
   "display_name": "Python 3",
   "language": "python",
   "name": "python3"
  },
  "language_info": {
   "codemirror_mode": {
    "name": "ipython",
    "version": 3
   },
   "file_extension": ".py",
   "mimetype": "text/x-python",
   "name": "python",
   "nbconvert_exporter": "python",
   "pygments_lexer": "ipython3",
   "version": "3.7.1"
  }
 },
 "nbformat": 4,
 "nbformat_minor": 4
}
